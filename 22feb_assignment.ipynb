{
 "cells": [
  {
   "cell_type": "markdown",
   "id": "bc7c1493-041d-4008-aeea-f2ba55fbe385",
   "metadata": {},
   "source": [
    "\n",
    "Q1. Create a Pandas Series that contains the following data: 4, 8, 15, 16, 23, and 42. Then, print the series."
   ]
  },
  {
   "cell_type": "code",
   "execution_count": 3,
   "id": "433ac597-1ee8-4aae-a957-2423e7ade985",
   "metadata": {},
   "outputs": [],
   "source": [
    "import pandas as pd\n",
    "data= (4, 8, 15, 16, 23, 42)"
   ]
  },
  {
   "cell_type": "code",
   "execution_count": 4,
   "id": "dcb4c500-1968-442f-b08a-a402200c8629",
   "metadata": {},
   "outputs": [
    {
     "data": {
      "text/plain": [
       "(4, 8, 15, 16, 23, 42)"
      ]
     },
     "execution_count": 4,
     "metadata": {},
     "output_type": "execute_result"
    }
   ],
   "source": [
    "data"
   ]
  },
  {
   "cell_type": "code",
   "execution_count": 6,
   "id": "9f9310fe-9b7c-4a8b-b476-3cee3902cd85",
   "metadata": {},
   "outputs": [],
   "source": [
    "ds=pd.DataFrame(data)"
   ]
  },
  {
   "cell_type": "code",
   "execution_count": 7,
   "id": "eebfdf4d-3815-444b-9261-24cc68c1588d",
   "metadata": {},
   "outputs": [
    {
     "data": {
      "text/html": [
       "<div>\n",
       "<style scoped>\n",
       "    .dataframe tbody tr th:only-of-type {\n",
       "        vertical-align: middle;\n",
       "    }\n",
       "\n",
       "    .dataframe tbody tr th {\n",
       "        vertical-align: top;\n",
       "    }\n",
       "\n",
       "    .dataframe thead th {\n",
       "        text-align: right;\n",
       "    }\n",
       "</style>\n",
       "<table border=\"1\" class=\"dataframe\">\n",
       "  <thead>\n",
       "    <tr style=\"text-align: right;\">\n",
       "      <th></th>\n",
       "      <th>0</th>\n",
       "    </tr>\n",
       "  </thead>\n",
       "  <tbody>\n",
       "    <tr>\n",
       "      <th>0</th>\n",
       "      <td>4</td>\n",
       "    </tr>\n",
       "    <tr>\n",
       "      <th>1</th>\n",
       "      <td>8</td>\n",
       "    </tr>\n",
       "    <tr>\n",
       "      <th>2</th>\n",
       "      <td>15</td>\n",
       "    </tr>\n",
       "    <tr>\n",
       "      <th>3</th>\n",
       "      <td>16</td>\n",
       "    </tr>\n",
       "    <tr>\n",
       "      <th>4</th>\n",
       "      <td>23</td>\n",
       "    </tr>\n",
       "    <tr>\n",
       "      <th>5</th>\n",
       "      <td>42</td>\n",
       "    </tr>\n",
       "  </tbody>\n",
       "</table>\n",
       "</div>"
      ],
      "text/plain": [
       "    0\n",
       "0   4\n",
       "1   8\n",
       "2  15\n",
       "3  16\n",
       "4  23\n",
       "5  42"
      ]
     },
     "execution_count": 7,
     "metadata": {},
     "output_type": "execute_result"
    }
   ],
   "source": [
    "ds"
   ]
  },
  {
   "cell_type": "code",
   "execution_count": 8,
   "id": "a13c6115-c8aa-43eb-86d8-93e1fbb46a5c",
   "metadata": {},
   "outputs": [
    {
     "data": {
      "text/plain": [
       "0    int64\n",
       "dtype: object"
      ]
     },
     "execution_count": 8,
     "metadata": {},
     "output_type": "execute_result"
    }
   ],
   "source": [
    "ds.dtypes\n"
   ]
  },
  {
   "cell_type": "code",
   "execution_count": 9,
   "id": "e771e806-d01a-4f37-977a-570f36f1a5f5",
   "metadata": {},
   "outputs": [
    {
     "data": {
      "text/plain": [
       "pandas.core.series.Series"
      ]
     },
     "execution_count": 9,
     "metadata": {},
     "output_type": "execute_result"
    }
   ],
   "source": [
    "type(ds.dtypes)"
   ]
  },
  {
   "cell_type": "markdown",
   "id": "27a9f22c-0556-420f-b111-781c0a44b72d",
   "metadata": {},
   "source": [
    "Q2. Create a variable of list type containing 10 elements in it, and apply pandas.Series function on the \n",
    "variable print it.\n"
   ]
  },
  {
   "cell_type": "code",
   "execution_count": 10,
   "id": "60c0bb46-0e50-4551-b703-22ca0c7a97fe",
   "metadata": {},
   "outputs": [],
   "source": [
    "data1=[1,2,3,4,5,6,8,9,7,0]"
   ]
  },
  {
   "cell_type": "code",
   "execution_count": 11,
   "id": "81e2e600-31a2-44d6-9d6c-57359b1f9df0",
   "metadata": {},
   "outputs": [
    {
     "data": {
      "text/plain": [
       "[1, 2, 3, 4, 5, 6, 8, 9, 7, 0]"
      ]
     },
     "execution_count": 11,
     "metadata": {},
     "output_type": "execute_result"
    }
   ],
   "source": [
    "data1"
   ]
  },
  {
   "cell_type": "code",
   "execution_count": 60,
   "id": "e1607063-9296-436c-9cbb-73c7f3646020",
   "metadata": {},
   "outputs": [],
   "source": [
    "ds1=pd.DataFrame(data1)"
   ]
  },
  {
   "cell_type": "code",
   "execution_count": 62,
   "id": "0816aa3b-4c20-48ec-a420-6ac58a453b08",
   "metadata": {},
   "outputs": [
    {
     "data": {
      "text/plain": [
       "0    int64\n",
       "dtype: object"
      ]
     },
     "execution_count": 62,
     "metadata": {},
     "output_type": "execute_result"
    }
   ],
   "source": [
    "ds1.dtypes"
   ]
  },
  {
   "cell_type": "code",
   "execution_count": 63,
   "id": "5133c182-a91b-4379-87cc-db6b64a3de6f",
   "metadata": {},
   "outputs": [
    {
     "data": {
      "text/plain": [
       "pandas.core.series.Series"
      ]
     },
     "execution_count": 63,
     "metadata": {},
     "output_type": "execute_result"
    }
   ],
   "source": [
    "type(ds1.dtypes)"
   ]
  },
  {
   "cell_type": "markdown",
   "id": "e2c430f4-c05c-491e-8a4a-c7ab07ed6563",
   "metadata": {},
   "source": [
    "Q.3 Create a Pandas DataFrame that contains the following data:"
   ]
  },
  {
   "cell_type": "code",
   "execution_count": 21,
   "id": "abf75d69-6b39-4f3c-a4a6-213c0b20c817",
   "metadata": {},
   "outputs": [],
   "source": [
    "data3={\"name\":[\"alice\",\"bob\",\"claire\"],\n",
    "       \"Age\":[\"25\",\"30\",\"27\"],\n",
    "       \"Gender\":[\"Female\",\"Male\",\"Femal\"]}"
   ]
  },
  {
   "cell_type": "code",
   "execution_count": 22,
   "id": "131972de-7974-40ec-a6fe-e7ad2e5e1f96",
   "metadata": {},
   "outputs": [
    {
     "data": {
      "text/plain": [
       "{'name': ['alice', 'bob', 'claire'],\n",
       " 'Age': ['25', '30', '27'],\n",
       " 'Gender': ['Female', 'Male', 'Femal']}"
      ]
     },
     "execution_count": 22,
     "metadata": {},
     "output_type": "execute_result"
    }
   ],
   "source": [
    "data3"
   ]
  },
  {
   "cell_type": "code",
   "execution_count": 24,
   "id": "a4d48b5e-b0b3-4ae6-90e5-2525fad6c68b",
   "metadata": {},
   "outputs": [],
   "source": [
    "df=pd.DataFrame(data3)"
   ]
  },
  {
   "cell_type": "code",
   "execution_count": 26,
   "id": "66e0415a-d667-4895-89a5-5484e0b87251",
   "metadata": {},
   "outputs": [
    {
     "data": {
      "text/html": [
       "<div>\n",
       "<style scoped>\n",
       "    .dataframe tbody tr th:only-of-type {\n",
       "        vertical-align: middle;\n",
       "    }\n",
       "\n",
       "    .dataframe tbody tr th {\n",
       "        vertical-align: top;\n",
       "    }\n",
       "\n",
       "    .dataframe thead th {\n",
       "        text-align: right;\n",
       "    }\n",
       "</style>\n",
       "<table border=\"1\" class=\"dataframe\">\n",
       "  <thead>\n",
       "    <tr style=\"text-align: right;\">\n",
       "      <th></th>\n",
       "      <th>name</th>\n",
       "      <th>Age</th>\n",
       "      <th>Gender</th>\n",
       "    </tr>\n",
       "  </thead>\n",
       "  <tbody>\n",
       "    <tr>\n",
       "      <th>0</th>\n",
       "      <td>alice</td>\n",
       "      <td>25</td>\n",
       "      <td>Female</td>\n",
       "    </tr>\n",
       "    <tr>\n",
       "      <th>1</th>\n",
       "      <td>bob</td>\n",
       "      <td>30</td>\n",
       "      <td>Male</td>\n",
       "    </tr>\n",
       "    <tr>\n",
       "      <th>2</th>\n",
       "      <td>claire</td>\n",
       "      <td>27</td>\n",
       "      <td>Femal</td>\n",
       "    </tr>\n",
       "  </tbody>\n",
       "</table>\n",
       "</div>"
      ],
      "text/plain": [
       "     name Age  Gender\n",
       "0   alice  25  Female\n",
       "1     bob  30    Male\n",
       "2  claire  27   Femal"
      ]
     },
     "execution_count": 26,
     "metadata": {},
     "output_type": "execute_result"
    }
   ],
   "source": [
    "df"
   ]
  },
  {
   "cell_type": "markdown",
   "id": "6efb594b-ad15-44bb-9a15-cfcf86df7cb9",
   "metadata": {},
   "source": [
    "Q4.What is ‘DataFrame’ in pandas and how is it different from pandas.series? Explain with an example.\n"
   ]
  },
  {
   "cell_type": "markdown",
   "id": "550b9f35-cd82-4e5a-8395-4b1d2b1d4e5d",
   "metadata": {},
   "source": [
    "DataFrame is the function of pandas library and it is arrange the data set in the frame with index as per data arrangement.in pandas series you have take a single line of data perform like particular column or row witch is end with single[] bracketes or list.but DataFrame apply all the data set."
   ]
  },
  {
   "cell_type": "code",
   "execution_count": 34,
   "id": "b2287837-d707-4b41-a291-76748c20ff0f",
   "metadata": {},
   "outputs": [],
   "source": [
    "#examples.\n",
    "data ={\"a\":[3,4,5,4],\n",
    "      \"b\":[3,4,5,6],\n",
    "      \"c\":[3,4,5,6],\n",
    "      \"d\":[\"raju\",\"mina\",\"rahul\",\"kunal\"]}"
   ]
  },
  {
   "cell_type": "code",
   "execution_count": 36,
   "id": "8c4fcac0-bc60-4240-92f4-ef7dc8d14c51",
   "metadata": {},
   "outputs": [],
   "source": [
    "df1=pd.DataFrame(data)"
   ]
  },
  {
   "cell_type": "code",
   "execution_count": 42,
   "id": "d1086311-b92a-4b8e-aa4c-478562282b02",
   "metadata": {},
   "outputs": [],
   "source": [
    "df2=df1[['a']]"
   ]
  },
  {
   "cell_type": "code",
   "execution_count": 43,
   "id": "4ddc65c4-7c7b-46ab-a568-c2de8f8202d2",
   "metadata": {},
   "outputs": [
    {
     "data": {
      "text/html": [
       "<div>\n",
       "<style scoped>\n",
       "    .dataframe tbody tr th:only-of-type {\n",
       "        vertical-align: middle;\n",
       "    }\n",
       "\n",
       "    .dataframe tbody tr th {\n",
       "        vertical-align: top;\n",
       "    }\n",
       "\n",
       "    .dataframe thead th {\n",
       "        text-align: right;\n",
       "    }\n",
       "</style>\n",
       "<table border=\"1\" class=\"dataframe\">\n",
       "  <thead>\n",
       "    <tr style=\"text-align: right;\">\n",
       "      <th></th>\n",
       "      <th>a</th>\n",
       "    </tr>\n",
       "  </thead>\n",
       "  <tbody>\n",
       "    <tr>\n",
       "      <th>0</th>\n",
       "      <td>3</td>\n",
       "    </tr>\n",
       "    <tr>\n",
       "      <th>1</th>\n",
       "      <td>4</td>\n",
       "    </tr>\n",
       "    <tr>\n",
       "      <th>2</th>\n",
       "      <td>5</td>\n",
       "    </tr>\n",
       "    <tr>\n",
       "      <th>3</th>\n",
       "      <td>4</td>\n",
       "    </tr>\n",
       "  </tbody>\n",
       "</table>\n",
       "</div>"
      ],
      "text/plain": [
       "   a\n",
       "0  3\n",
       "1  4\n",
       "2  5\n",
       "3  4"
      ]
     },
     "execution_count": 43,
     "metadata": {},
     "output_type": "execute_result"
    }
   ],
   "source": [
    "df2"
   ]
  },
  {
   "cell_type": "code",
   "execution_count": 44,
   "id": "6e742ec1-dc70-4695-8928-e27b16efe343",
   "metadata": {},
   "outputs": [
    {
     "data": {
      "text/plain": [
       "a    int64\n",
       "dtype: object"
      ]
     },
     "execution_count": 44,
     "metadata": {},
     "output_type": "execute_result"
    }
   ],
   "source": [
    "df2.dtypes"
   ]
  },
  {
   "cell_type": "code",
   "execution_count": 45,
   "id": "0bfc66ce-9d0d-4a9f-a6af-e3f63e9296be",
   "metadata": {},
   "outputs": [
    {
     "data": {
      "text/plain": [
       "pandas.core.series.Series"
      ]
     },
     "execution_count": 45,
     "metadata": {},
     "output_type": "execute_result"
    }
   ],
   "source": [
    "type(df2.dtypes)"
   ]
  },
  {
   "cell_type": "markdown",
   "id": "6eea5aca-8412-43de-85dc-b975cbc3335e",
   "metadata": {},
   "source": [
    "Q5. What are some common functions you can use to manipulate data in a Pandas DataFrame? Can \n",
    "you give an example of when you might use one of these functions?\n"
   ]
  },
  {
   "cell_type": "markdown",
   "id": "73cd68d0-40b6-49e4-93c9-543cbfd7fb6f",
   "metadata": {},
   "source": [
    "there are some common function that use to manipulate data in pandas DataFrame are following:-\n",
    "1.categorical\n",
    "2.iloc\n",
    "3.loc\n",
    "4.head()\n",
    "5.dtype()"
   ]
  },
  {
   "cell_type": "code",
   "execution_count": 46,
   "id": "58550b9e-9040-49f4-ade4-24f5f1556c00",
   "metadata": {},
   "outputs": [],
   "source": [
    "#examples\n",
    "data ={\"a\":[3,4,5,4],\n",
    "      \"b\":[3,4,5,6],\n",
    "      \"c\":[3,4,5,6],\n",
    "      \"d\":[\"raju\",\"mina\",\"rahul\",\"kunal\"]}\n"
   ]
  },
  {
   "cell_type": "code",
   "execution_count": 48,
   "id": "c4ea9a23-02b7-4307-a647-c3a668f14152",
   "metadata": {},
   "outputs": [],
   "source": [
    "df=pd.DataFrame(data)"
   ]
  },
  {
   "cell_type": "code",
   "execution_count": 49,
   "id": "7175a2c7-23c4-4cee-8fef-41022a449e64",
   "metadata": {},
   "outputs": [
    {
     "data": {
      "text/html": [
       "<div>\n",
       "<style scoped>\n",
       "    .dataframe tbody tr th:only-of-type {\n",
       "        vertical-align: middle;\n",
       "    }\n",
       "\n",
       "    .dataframe tbody tr th {\n",
       "        vertical-align: top;\n",
       "    }\n",
       "\n",
       "    .dataframe thead th {\n",
       "        text-align: right;\n",
       "    }\n",
       "</style>\n",
       "<table border=\"1\" class=\"dataframe\">\n",
       "  <thead>\n",
       "    <tr style=\"text-align: right;\">\n",
       "      <th></th>\n",
       "      <th>a</th>\n",
       "      <th>b</th>\n",
       "      <th>c</th>\n",
       "      <th>d</th>\n",
       "    </tr>\n",
       "  </thead>\n",
       "  <tbody>\n",
       "    <tr>\n",
       "      <th>0</th>\n",
       "      <td>3</td>\n",
       "      <td>3</td>\n",
       "      <td>3</td>\n",
       "      <td>raju</td>\n",
       "    </tr>\n",
       "    <tr>\n",
       "      <th>1</th>\n",
       "      <td>4</td>\n",
       "      <td>4</td>\n",
       "      <td>4</td>\n",
       "      <td>mina</td>\n",
       "    </tr>\n",
       "  </tbody>\n",
       "</table>\n",
       "</div>"
      ],
      "text/plain": [
       "   a  b  c     d\n",
       "0  3  3  3  raju\n",
       "1  4  4  4  mina"
      ]
     },
     "execution_count": 49,
     "metadata": {},
     "output_type": "execute_result"
    }
   ],
   "source": [
    "df.head(2)"
   ]
  },
  {
   "cell_type": "code",
   "execution_count": 50,
   "id": "54d4c4df-8e82-4b3d-b6d9-f7b3a3d65864",
   "metadata": {},
   "outputs": [
    {
     "data": {
      "text/plain": [
       "Index(['a', 'b', 'c', 'd'], dtype='object')"
      ]
     },
     "execution_count": 50,
     "metadata": {},
     "output_type": "execute_result"
    }
   ],
   "source": [
    "df.columns"
   ]
  },
  {
   "cell_type": "code",
   "execution_count": 51,
   "id": "95fa7673-ebca-4190-b99e-095eafc6ae19",
   "metadata": {},
   "outputs": [
    {
     "data": {
      "text/html": [
       "<div>\n",
       "<style scoped>\n",
       "    .dataframe tbody tr th:only-of-type {\n",
       "        vertical-align: middle;\n",
       "    }\n",
       "\n",
       "    .dataframe tbody tr th {\n",
       "        vertical-align: top;\n",
       "    }\n",
       "\n",
       "    .dataframe thead th {\n",
       "        text-align: right;\n",
       "    }\n",
       "</style>\n",
       "<table border=\"1\" class=\"dataframe\">\n",
       "  <thead>\n",
       "    <tr style=\"text-align: right;\">\n",
       "      <th></th>\n",
       "      <th>a</th>\n",
       "      <th>b</th>\n",
       "      <th>c</th>\n",
       "      <th>d</th>\n",
       "    </tr>\n",
       "  </thead>\n",
       "  <tbody>\n",
       "    <tr>\n",
       "      <th>2</th>\n",
       "      <td>5</td>\n",
       "      <td>5</td>\n",
       "      <td>5</td>\n",
       "      <td>rahul</td>\n",
       "    </tr>\n",
       "    <tr>\n",
       "      <th>3</th>\n",
       "      <td>4</td>\n",
       "      <td>6</td>\n",
       "      <td>6</td>\n",
       "      <td>kunal</td>\n",
       "    </tr>\n",
       "  </tbody>\n",
       "</table>\n",
       "</div>"
      ],
      "text/plain": [
       "   a  b  c      d\n",
       "2  5  5  5  rahul\n",
       "3  4  6  6  kunal"
      ]
     },
     "execution_count": 51,
     "metadata": {},
     "output_type": "execute_result"
    }
   ],
   "source": [
    "df.tail(2)"
   ]
  },
  {
   "cell_type": "markdown",
   "id": "6f18ce05-8c29-43f8-8edf-53de6127b939",
   "metadata": {},
   "source": [
    "Q6.Which of the following is mutable in nature Series, DataFrame, Panel?\n"
   ]
  },
  {
   "cell_type": "markdown",
   "id": "202842a2-7df5-4607-91db-7d7c349f6654",
   "metadata": {},
   "source": [
    "Mostly function of DataFrame are futable in nature like nuberical value and list can be mutable when it is series formate when it is single list then it have to first change in to series then we make it mutable. "
   ]
  },
  {
   "cell_type": "markdown",
   "id": "7915e24a-6fc4-4c75-917a-43fb40d31c1b",
   "metadata": {},
   "source": [
    "Q7.Create a DataFrame using multiple Series. Explain with an example."
   ]
  },
  {
   "cell_type": "code",
   "execution_count": 52,
   "id": "492ef572-2021-4452-b2b0-ff48a5d8f955",
   "metadata": {},
   "outputs": [],
   "source": [
    "import pandas as pd"
   ]
  },
  {
   "cell_type": "code",
   "execution_count": 53,
   "id": "6f9ee144-5163-4408-bfaf-5a56cd6403fc",
   "metadata": {},
   "outputs": [],
   "source": [
    "df=pd.read_csv(\"excel-sheelt.csv\")"
   ]
  },
  {
   "cell_type": "code",
   "execution_count": 54,
   "id": "cb56e59e-6edd-4084-bbca-46c217223200",
   "metadata": {},
   "outputs": [
    {
     "data": {
      "text/html": [
       "<div>\n",
       "<style scoped>\n",
       "    .dataframe tbody tr th:only-of-type {\n",
       "        vertical-align: middle;\n",
       "    }\n",
       "\n",
       "    .dataframe tbody tr th {\n",
       "        vertical-align: top;\n",
       "    }\n",
       "\n",
       "    .dataframe thead th {\n",
       "        text-align: right;\n",
       "    }\n",
       "</style>\n",
       "<table border=\"1\" class=\"dataframe\">\n",
       "  <thead>\n",
       "    <tr style=\"text-align: right;\">\n",
       "      <th></th>\n",
       "      <th></th>\n",
       "      <th></th>\n",
       "      <th></th>\n",
       "      <th></th>\n",
       "      <th></th>\n",
       "      <th></th>\n",
       "      <th></th>\n",
       "      <th></th>\n",
       "      <th></th>\n",
       "      <th></th>\n",
       "      <th></th>\n",
       "      <th></th>\n",
       "      <th></th>\n",
       "      <th></th>\n",
       "      <th></th>\n",
       "      <th></th>\n",
       "      <th></th>\n",
       "      <th></th>\n",
       "      <th></th>\n",
       "      <th></th>\n",
       "      <th></th>\n",
       "      <th></th>\n",
       "      <th></th>\n",
       "      <th></th>\n",
       "      <th></th>\n",
       "      <th></th>\n",
       "      <th></th>\n",
       "      <th>sep=</th>\n",
       "      <th>Unnamed: 1</th>\n",
       "    </tr>\n",
       "  </thead>\n",
       "  <tbody>\n",
       "    <tr>\n",
       "      <th>Circle</th>\n",
       "      <th>Sitetype</th>\n",
       "      <th>Network Type</th>\n",
       "      <th>Alarming OpCo</th>\n",
       "      <th>Site Name</th>\n",
       "      <th>Site ID</th>\n",
       "      <th>Alarm Name</th>\n",
       "      <th>Alarm Text</th>\n",
       "      <th>Start Time</th>\n",
       "      <th>OSS Time</th>\n",
       "      <th>Event Time</th>\n",
       "      <th>Work Log</th>\n",
       "      <th>Area</th>\n",
       "      <th>Tech No</th>\n",
       "      <th>Fse Mobile</th>\n",
       "      <th>Config ID</th>\n",
       "      <th>Toc Site Priority</th>\n",
       "      <th>Alarm Identifier</th>\n",
       "      <th>PM Flag</th>\n",
       "      <th>Outage cause</th>\n",
       "      <th>Outage info</th>\n",
       "      <th>OME Partner</th>\n",
       "      <th>Tech Name</th>\n",
       "      <th>Fse Name</th>\n",
       "      <th>Tech Manager</th>\n",
       "      <th>Techn Manager No</th>\n",
       "      <th>Anchor Opco</th>\n",
       "      <th>Telecom Vendor</th>\n",
       "      <td>TT Details</td>\n",
       "      <td>Logic Id</td>\n",
       "    </tr>\n",
       "    <tr>\n",
       "      <th>Rest of West Bengal</th>\n",
       "      <th>Non-Strategic</th>\n",
       "      <th>4G</th>\n",
       "      <th>Airtel</th>\n",
       "      <th>BCF_62_Balarampur_ARTL_4G</th>\n",
       "      <th>IN-1256117</th>\n",
       "      <th>Low Battery Voltage</th>\n",
       "      <th>LOW DC</th>\n",
       "      <th>2022-11-15 12:23:27</th>\n",
       "      <th>2022-11-15 12:23:22</th>\n",
       "      <th>2022-11-15 12:23:22</th>\n",
       "      <th>NaN</th>\n",
       "      <th>Malda &amp; Dinajpur</th>\n",
       "      <th>9609001103</th>\n",
       "      <th>8945556151</th>\n",
       "      <th>MRBTS-65795</th>\n",
       "      <th>10.NORMAL SITE</th>\n",
       "      <th>6957117</th>\n",
       "      <th>PM-OFF</th>\n",
       "      <th>NaN</th>\n",
       "      <th>NaN</th>\n",
       "      <th>NIPL</th>\n",
       "      <th>Sahajan Ali</th>\n",
       "      <th>Others - 869769 Titan Mallik</th>\n",
       "      <th>Niladri Karmakar</th>\n",
       "      <th>9051619116</th>\n",
       "      <th>Vodafone</th>\n",
       "      <th>NSN-eNodeB</th>\n",
       "      <td>NaN</td>\n",
       "      <td>NSN_AIRTEL_KOL_ROWB_DUO4_10_131_29_137_MRBTS-6...</td>\n",
       "    </tr>\n",
       "    <tr>\n",
       "      <th>Kolkata</th>\n",
       "      <th>Non-Strategic</th>\n",
       "      <th>4G</th>\n",
       "      <th>Airtel</th>\n",
       "      <th>Bangabasi_College_ZTE_4G</th>\n",
       "      <th>IN-1073048</th>\n",
       "      <th>Low Battery Voltage</th>\n",
       "      <th>LOW BATTERY VOLTAGE</th>\n",
       "      <th>2022-11-15 12:22:43</th>\n",
       "      <th>2022-11-15 12:22:27</th>\n",
       "      <th>2022-11-15 12:22:27</th>\n",
       "      <th>CNT_TOC_EAST_D_NK_ESC_TECH_ack</th>\n",
       "      <th>Kolkata -1</th>\n",
       "      <th>9007023025</th>\n",
       "      <th>9933499072</th>\n",
       "      <th>rns1012_KO_E_F_OM_BBCL</th>\n",
       "      <th>10.NORMAL SITE</th>\n",
       "      <th>1099441</th>\n",
       "      <th>PM-ON</th>\n",
       "      <th>NaN</th>\n",
       "      <th>NaN</th>\n",
       "      <th>Technocon</th>\n",
       "      <th>Sankar Saha</th>\n",
       "      <th>Others - 865507 Anup Mondal</th>\n",
       "      <th>Kallol Mishra</th>\n",
       "      <th>9163399755</th>\n",
       "      <th>Airtel</th>\n",
       "      <th>ZTE-eNodeB</th>\n",
       "      <td>NaN</td>\n",
       "      <td>ZTE_AIRTEL_KOL_ROWB_DUO02_10_193_97_229_rns101...</td>\n",
       "    </tr>\n",
       "  </tbody>\n",
       "</table>\n",
       "</div>"
      ],
      "text/plain": [
       "                                                                                                                                                                                                                                                                                                                                                                                                                                                                                                sep=  \\\n",
       "Circle              Sitetype      Network Type Alarming OpCo Site Name                 Site ID    Alarm Name          Alarm Text          Start Time          OSS Time            Event Time          Work Log                       Area             Tech No    Fse Mobile Config ID              Toc Site Priority Alarm Identifier PM Flag Outage cause Outage info OME Partner Tech Name   Fse Name                     Tech Manager     Techn Manager No Anchor Opco Telecom Vendor  TT Details   \n",
       "Rest of West Bengal Non-Strategic 4G           Airtel        BCF_62_Balarampur_ARTL_4G IN-1256117 Low Battery Voltage LOW DC              2022-11-15 12:23:27 2022-11-15 12:23:22 2022-11-15 12:23:22 NaN                            Malda & Dinajpur 9609001103 8945556151 MRBTS-65795            10.NORMAL SITE    6957117          PM-OFF  NaN          NaN         NIPL        Sahajan Ali Others - 869769 Titan Mallik Niladri Karmakar 9051619116       Vodafone    NSN-eNodeB             NaN   \n",
       "Kolkata             Non-Strategic 4G           Airtel        Bangabasi_College_ZTE_4G  IN-1073048 Low Battery Voltage LOW BATTERY VOLTAGE 2022-11-15 12:22:43 2022-11-15 12:22:27 2022-11-15 12:22:27 CNT_TOC_EAST_D_NK_ESC_TECH_ack Kolkata -1       9007023025 9933499072 rns1012_KO_E_F_OM_BBCL 10.NORMAL SITE    1099441          PM-ON   NaN          NaN         Technocon   Sankar Saha Others - 865507 Anup Mondal  Kallol Mishra    9163399755       Airtel      ZTE-eNodeB             NaN   \n",
       "\n",
       "                                                                                                                                                                                                                                                                                                                                                                                                                                                                                                                                 Unnamed: 1  \n",
       "Circle              Sitetype      Network Type Alarming OpCo Site Name                 Site ID    Alarm Name          Alarm Text          Start Time          OSS Time            Event Time          Work Log                       Area             Tech No    Fse Mobile Config ID              Toc Site Priority Alarm Identifier PM Flag Outage cause Outage info OME Partner Tech Name   Fse Name                     Tech Manager     Techn Manager No Anchor Opco Telecom Vendor                                           Logic Id  \n",
       "Rest of West Bengal Non-Strategic 4G           Airtel        BCF_62_Balarampur_ARTL_4G IN-1256117 Low Battery Voltage LOW DC              2022-11-15 12:23:27 2022-11-15 12:23:22 2022-11-15 12:23:22 NaN                            Malda & Dinajpur 9609001103 8945556151 MRBTS-65795            10.NORMAL SITE    6957117          PM-OFF  NaN          NaN         NIPL        Sahajan Ali Others - 869769 Titan Mallik Niladri Karmakar 9051619116       Vodafone    NSN-eNodeB      NSN_AIRTEL_KOL_ROWB_DUO4_10_131_29_137_MRBTS-6...  \n",
       "Kolkata             Non-Strategic 4G           Airtel        Bangabasi_College_ZTE_4G  IN-1073048 Low Battery Voltage LOW BATTERY VOLTAGE 2022-11-15 12:22:43 2022-11-15 12:22:27 2022-11-15 12:22:27 CNT_TOC_EAST_D_NK_ESC_TECH_ack Kolkata -1       9007023025 9933499072 rns1012_KO_E_F_OM_BBCL 10.NORMAL SITE    1099441          PM-ON   NaN          NaN         Technocon   Sankar Saha Others - 865507 Anup Mondal  Kallol Mishra    9163399755       Airtel      ZTE-eNodeB      ZTE_AIRTEL_KOL_ROWB_DUO02_10_193_97_229_rns101...  "
      ]
     },
     "execution_count": 54,
     "metadata": {},
     "output_type": "execute_result"
    }
   ],
   "source": [
    "df"
   ]
  },
  {
   "cell_type": "code",
   "execution_count": 55,
   "id": "b03e00dd-1bf9-4c41-814f-7262b06db260",
   "metadata": {},
   "outputs": [
    {
     "data": {
      "text/plain": [
       "Index(['sep=', 'Unnamed: 1'], dtype='object')"
      ]
     },
     "execution_count": 55,
     "metadata": {},
     "output_type": "execute_result"
    }
   ],
   "source": [
    "df.columns\n"
   ]
  },
  {
   "cell_type": "code",
   "execution_count": 56,
   "id": "7c41d9f7-500a-4960-99cc-b76fcbf1a9b2",
   "metadata": {},
   "outputs": [
    {
     "data": {
      "text/html": [
       "<div>\n",
       "<style scoped>\n",
       "    .dataframe tbody tr th:only-of-type {\n",
       "        vertical-align: middle;\n",
       "    }\n",
       "\n",
       "    .dataframe tbody tr th {\n",
       "        vertical-align: top;\n",
       "    }\n",
       "\n",
       "    .dataframe thead th {\n",
       "        text-align: right;\n",
       "    }\n",
       "</style>\n",
       "<table border=\"1\" class=\"dataframe\">\n",
       "  <thead>\n",
       "    <tr style=\"text-align: right;\">\n",
       "      <th></th>\n",
       "      <th></th>\n",
       "      <th></th>\n",
       "      <th></th>\n",
       "      <th></th>\n",
       "      <th></th>\n",
       "      <th></th>\n",
       "      <th></th>\n",
       "      <th></th>\n",
       "      <th></th>\n",
       "      <th></th>\n",
       "      <th></th>\n",
       "      <th></th>\n",
       "      <th></th>\n",
       "      <th></th>\n",
       "      <th></th>\n",
       "      <th></th>\n",
       "      <th></th>\n",
       "      <th></th>\n",
       "      <th></th>\n",
       "      <th></th>\n",
       "      <th></th>\n",
       "      <th></th>\n",
       "      <th></th>\n",
       "      <th></th>\n",
       "      <th></th>\n",
       "      <th></th>\n",
       "      <th></th>\n",
       "      <th>sep=</th>\n",
       "      <th>Unnamed: 1</th>\n",
       "    </tr>\n",
       "  </thead>\n",
       "  <tbody>\n",
       "    <tr>\n",
       "      <th>Circle</th>\n",
       "      <th>Sitetype</th>\n",
       "      <th>Network Type</th>\n",
       "      <th>Alarming OpCo</th>\n",
       "      <th>Site Name</th>\n",
       "      <th>Site ID</th>\n",
       "      <th>Alarm Name</th>\n",
       "      <th>Alarm Text</th>\n",
       "      <th>Start Time</th>\n",
       "      <th>OSS Time</th>\n",
       "      <th>Event Time</th>\n",
       "      <th>Work Log</th>\n",
       "      <th>Area</th>\n",
       "      <th>Tech No</th>\n",
       "      <th>Fse Mobile</th>\n",
       "      <th>Config ID</th>\n",
       "      <th>Toc Site Priority</th>\n",
       "      <th>Alarm Identifier</th>\n",
       "      <th>PM Flag</th>\n",
       "      <th>Outage cause</th>\n",
       "      <th>Outage info</th>\n",
       "      <th>OME Partner</th>\n",
       "      <th>Tech Name</th>\n",
       "      <th>Fse Name</th>\n",
       "      <th>Tech Manager</th>\n",
       "      <th>Techn Manager No</th>\n",
       "      <th>Anchor Opco</th>\n",
       "      <th>Telecom Vendor</th>\n",
       "      <td>TT Details</td>\n",
       "      <td>Logic Id</td>\n",
       "    </tr>\n",
       "    <tr>\n",
       "      <th>Rest of West Bengal</th>\n",
       "      <th>Non-Strategic</th>\n",
       "      <th>4G</th>\n",
       "      <th>Airtel</th>\n",
       "      <th>BCF_62_Balarampur_ARTL_4G</th>\n",
       "      <th>IN-1256117</th>\n",
       "      <th>Low Battery Voltage</th>\n",
       "      <th>LOW DC</th>\n",
       "      <th>2022-11-15 12:23:27</th>\n",
       "      <th>2022-11-15 12:23:22</th>\n",
       "      <th>2022-11-15 12:23:22</th>\n",
       "      <th>NaN</th>\n",
       "      <th>Malda &amp; Dinajpur</th>\n",
       "      <th>9609001103</th>\n",
       "      <th>8945556151</th>\n",
       "      <th>MRBTS-65795</th>\n",
       "      <th>10.NORMAL SITE</th>\n",
       "      <th>6957117</th>\n",
       "      <th>PM-OFF</th>\n",
       "      <th>NaN</th>\n",
       "      <th>NaN</th>\n",
       "      <th>NIPL</th>\n",
       "      <th>Sahajan Ali</th>\n",
       "      <th>Others - 869769 Titan Mallik</th>\n",
       "      <th>Niladri Karmakar</th>\n",
       "      <th>9051619116</th>\n",
       "      <th>Vodafone</th>\n",
       "      <th>NSN-eNodeB</th>\n",
       "      <td>NaN</td>\n",
       "      <td>NSN_AIRTEL_KOL_ROWB_DUO4_10_131_29_137_MRBTS-6...</td>\n",
       "    </tr>\n",
       "    <tr>\n",
       "      <th>Kolkata</th>\n",
       "      <th>Non-Strategic</th>\n",
       "      <th>4G</th>\n",
       "      <th>Airtel</th>\n",
       "      <th>Bangabasi_College_ZTE_4G</th>\n",
       "      <th>IN-1073048</th>\n",
       "      <th>Low Battery Voltage</th>\n",
       "      <th>LOW BATTERY VOLTAGE</th>\n",
       "      <th>2022-11-15 12:22:43</th>\n",
       "      <th>2022-11-15 12:22:27</th>\n",
       "      <th>2022-11-15 12:22:27</th>\n",
       "      <th>CNT_TOC_EAST_D_NK_ESC_TECH_ack</th>\n",
       "      <th>Kolkata -1</th>\n",
       "      <th>9007023025</th>\n",
       "      <th>9933499072</th>\n",
       "      <th>rns1012_KO_E_F_OM_BBCL</th>\n",
       "      <th>10.NORMAL SITE</th>\n",
       "      <th>1099441</th>\n",
       "      <th>PM-ON</th>\n",
       "      <th>NaN</th>\n",
       "      <th>NaN</th>\n",
       "      <th>Technocon</th>\n",
       "      <th>Sankar Saha</th>\n",
       "      <th>Others - 865507 Anup Mondal</th>\n",
       "      <th>Kallol Mishra</th>\n",
       "      <th>9163399755</th>\n",
       "      <th>Airtel</th>\n",
       "      <th>ZTE-eNodeB</th>\n",
       "      <td>NaN</td>\n",
       "      <td>ZTE_AIRTEL_KOL_ROWB_DUO02_10_193_97_229_rns101...</td>\n",
       "    </tr>\n",
       "  </tbody>\n",
       "</table>\n",
       "</div>"
      ],
      "text/plain": [
       "                                                                                                                                                                                                                                                                                                                                                                                                                                                                                                sep=  \\\n",
       "Circle              Sitetype      Network Type Alarming OpCo Site Name                 Site ID    Alarm Name          Alarm Text          Start Time          OSS Time            Event Time          Work Log                       Area             Tech No    Fse Mobile Config ID              Toc Site Priority Alarm Identifier PM Flag Outage cause Outage info OME Partner Tech Name   Fse Name                     Tech Manager     Techn Manager No Anchor Opco Telecom Vendor  TT Details   \n",
       "Rest of West Bengal Non-Strategic 4G           Airtel        BCF_62_Balarampur_ARTL_4G IN-1256117 Low Battery Voltage LOW DC              2022-11-15 12:23:27 2022-11-15 12:23:22 2022-11-15 12:23:22 NaN                            Malda & Dinajpur 9609001103 8945556151 MRBTS-65795            10.NORMAL SITE    6957117          PM-OFF  NaN          NaN         NIPL        Sahajan Ali Others - 869769 Titan Mallik Niladri Karmakar 9051619116       Vodafone    NSN-eNodeB             NaN   \n",
       "Kolkata             Non-Strategic 4G           Airtel        Bangabasi_College_ZTE_4G  IN-1073048 Low Battery Voltage LOW BATTERY VOLTAGE 2022-11-15 12:22:43 2022-11-15 12:22:27 2022-11-15 12:22:27 CNT_TOC_EAST_D_NK_ESC_TECH_ack Kolkata -1       9007023025 9933499072 rns1012_KO_E_F_OM_BBCL 10.NORMAL SITE    1099441          PM-ON   NaN          NaN         Technocon   Sankar Saha Others - 865507 Anup Mondal  Kallol Mishra    9163399755       Airtel      ZTE-eNodeB             NaN   \n",
       "\n",
       "                                                                                                                                                                                                                                                                                                                                                                                                                                                                                                                                 Unnamed: 1  \n",
       "Circle              Sitetype      Network Type Alarming OpCo Site Name                 Site ID    Alarm Name          Alarm Text          Start Time          OSS Time            Event Time          Work Log                       Area             Tech No    Fse Mobile Config ID              Toc Site Priority Alarm Identifier PM Flag Outage cause Outage info OME Partner Tech Name   Fse Name                     Tech Manager     Techn Manager No Anchor Opco Telecom Vendor                                           Logic Id  \n",
       "Rest of West Bengal Non-Strategic 4G           Airtel        BCF_62_Balarampur_ARTL_4G IN-1256117 Low Battery Voltage LOW DC              2022-11-15 12:23:27 2022-11-15 12:23:22 2022-11-15 12:23:22 NaN                            Malda & Dinajpur 9609001103 8945556151 MRBTS-65795            10.NORMAL SITE    6957117          PM-OFF  NaN          NaN         NIPL        Sahajan Ali Others - 869769 Titan Mallik Niladri Karmakar 9051619116       Vodafone    NSN-eNodeB      NSN_AIRTEL_KOL_ROWB_DUO4_10_131_29_137_MRBTS-6...  \n",
       "Kolkata             Non-Strategic 4G           Airtel        Bangabasi_College_ZTE_4G  IN-1073048 Low Battery Voltage LOW BATTERY VOLTAGE 2022-11-15 12:22:43 2022-11-15 12:22:27 2022-11-15 12:22:27 CNT_TOC_EAST_D_NK_ESC_TECH_ack Kolkata -1       9007023025 9933499072 rns1012_KO_E_F_OM_BBCL 10.NORMAL SITE    1099441          PM-ON   NaN          NaN         Technocon   Sankar Saha Others - 865507 Anup Mondal  Kallol Mishra    9163399755       Airtel      ZTE-eNodeB      ZTE_AIRTEL_KOL_ROWB_DUO02_10_193_97_229_rns101...  "
      ]
     },
     "execution_count": 56,
     "metadata": {},
     "output_type": "execute_result"
    }
   ],
   "source": [
    "df.head()"
   ]
  },
  {
   "cell_type": "code",
   "execution_count": 58,
   "id": "fdf0f275-c729-4f9e-8e32-61d2a16dfa58",
   "metadata": {},
   "outputs": [
    {
     "data": {
      "text/plain": [
       "sep=          object\n",
       "Unnamed: 1    object\n",
       "dtype: object"
      ]
     },
     "execution_count": 58,
     "metadata": {},
     "output_type": "execute_result"
    }
   ],
   "source": [
    "df.dtypes"
   ]
  },
  {
   "cell_type": "code",
   "execution_count": 59,
   "id": "900a114d-afa5-4a7a-9b82-9b499ae9b928",
   "metadata": {},
   "outputs": [
    {
     "data": {
      "text/plain": [
       "pandas.core.series.Series"
      ]
     },
     "execution_count": 59,
     "metadata": {},
     "output_type": "execute_result"
    }
   ],
   "source": [
    "type(df.dtypes)"
   ]
  },
  {
   "cell_type": "code",
   "execution_count": null,
   "id": "94b44e9a-7dcb-4c54-9419-4b2ddb8803c9",
   "metadata": {},
   "outputs": [],
   "source": []
  }
 ],
 "metadata": {
  "kernelspec": {
   "display_name": "Python 3 (ipykernel)",
   "language": "python",
   "name": "python3"
  },
  "language_info": {
   "codemirror_mode": {
    "name": "ipython",
    "version": 3
   },
   "file_extension": ".py",
   "mimetype": "text/x-python",
   "name": "python",
   "nbconvert_exporter": "python",
   "pygments_lexer": "ipython3",
   "version": "3.10.8"
  }
 },
 "nbformat": 4,
 "nbformat_minor": 5
}
